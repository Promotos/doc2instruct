{
 "cells": [
  {
   "cell_type": "code",
   "execution_count": 1,
   "metadata": {},
   "outputs": [
    {
     "data": {
      "text/plain": [
       "433910"
      ]
     },
     "execution_count": 1,
     "metadata": {},
     "output_type": "execute_result"
    }
   ],
   "source": [
    "from pypdf import PdfReader\n",
    "reader = PdfReader(\"examples/fritzbox-7590_man_en_GB.pdf\")\n",
    "text = ''\n",
    "for page in reader.pages:\n",
    "    text += '\\n' + page.extract_text()\n",
    "    \n",
    "len(text)"
   ]
  },
  {
   "cell_type": "code",
   "execution_count": 2,
   "metadata": {},
   "outputs": [
    {
     "name": "stdout",
     "output_type": "stream",
     "text": [
      "993\n",
      "\n",
      "ManualFRITZ!Box 7590 \n",
      "Table of Contents\n",
      "General Information on the FRITZ!Box......................................................................8\n",
      "Safety Instructions....................................................................................................9\n",
      "About this Manual ....................................................................................................12\n",
      "Package Contents....................................................................................................13\n",
      "Instructions and Help .............................................................................................14\n",
      "Parts...........................................................................................................................16\n",
      "Information on Cleaning.........................................................................................17\n",
      "Functions and Structure.............................................................................................18\n",
      "\n"
     ]
    }
   ],
   "source": [
    "from semantic_text_splitter import CharacterTextSplitter\n",
    "\n",
    "# Maximum number of characters in a chunk\n",
    "max_characters = 1024\n",
    "# Optionally can also have the splitter not trim whitespace for you\n",
    "splitter = CharacterTextSplitter(trim_chunks=False)\n",
    "\n",
    "chunks = splitter.chunks(text, max_characters)\n",
    "print(len(chunks[0]))\n",
    "print(chunks[0])"
   ]
  },
  {
   "cell_type": "code",
   "execution_count": 10,
   "metadata": {},
   "outputs": [
    {
     "data": {
      "text/plain": [
       "'• • • • • • • • • • • • • • • • • • • • • • • • • • • • • • • • • • • • • • • • • • • • • • • • • • • • • • • • • • • • • • • • • • • • • • • • • • • • • • • • • • • • • • • • • • • • • • • • • • • • • • • •\\n• • • • • • • • • • • • • • • • • • • • • • • • • • • • • • • • • • • • • • • • • • • • • • • • • • • • • • • • • • • • • • • • • • • • • • • • • • • • • • • • • • • • • • • • • • • • • • • • • • • • • • • •\\nConnecting to a DSL Connection with an Old Landline\\nOverview\\nIn just a few countries there are still DSL connections that are com-\\nbined with a landline in the old telephone network. Use the following\\ninstructions for these connections.\\nIf you use the FRITZ!Box on a DSL line in Germany, Austria, or Switzer-\\nland, see\\xa0Connecting the FRITZ!Box to an IP-based Connection,\\npage\\xa0 36.\\nInstructions: Connecting to a DSL Connection with a Landline\\n1. Insert the long end of the DSL/telephone cable into the socket on\\nthe FRITZ!Box labeled DSL.\\n2. Insert the short, gray end of the cable into the appropriate socket'"
      ]
     },
     "execution_count": 10,
     "metadata": {},
     "output_type": "execute_result"
    }
   ],
   "source": [
    "import pandas as pd\n",
    "df = pd.DataFrame(chunks, columns=['outputs'])\n",
    "df['outputs'][56]"
   ]
  },
  {
   "cell_type": "code",
   "execution_count": null,
   "metadata": {},
   "outputs": [],
   "source": [
    "def clean(string):\n",
    "    stripped = (c for c in string if 0 < ord(c) < 127)\n",
    "    return ''.join(stripped).strip()"
   ]
  },
  {
   "cell_type": "code",
   "execution_count": 21,
   "metadata": {},
   "outputs": [
    {
     "data": {
      "text/plain": [
       "'In just a few countries there are still DSL connections that are combined with a landline in the old telephone network. Use the following instructions for these connections:\\n\\n1. Insert the long end of the DSL/telephone cable into the socket on the FRITZ!Box labeled DSL.\\n2. Insert the short, gray end of the cable into the appropriate socket on the FRITZ!Box.'"
      ]
     },
     "execution_count": 21,
     "metadata": {},
     "output_type": "execute_result"
    }
   ],
   "source": [
    "import ollamac.ollamac as ollamac\n",
    "runner = ollamac.OlcRunner()\n",
    "\n",
    "def clean_ai(text) -> str:\n",
    "    text = clean()\n",
    "    return runner._generate(f'''\n",
    "    Clean and reformat the following text.\n",
    "    Only return the formatted text no additional explanation.\n",
    "    Text:\n",
    "    {text}\n",
    "    ''')\n",
    "    \n",
    "clean_ai(df['outputs'][56])"
   ]
  }
 ],
 "metadata": {
  "kernelspec": {
   "display_name": "venv",
   "language": "python",
   "name": "python3"
  },
  "language_info": {
   "codemirror_mode": {
    "name": "ipython",
    "version": 3
   },
   "file_extension": ".py",
   "mimetype": "text/x-python",
   "name": "python",
   "nbconvert_exporter": "python",
   "pygments_lexer": "ipython3",
   "version": "3.11.8"
  }
 },
 "nbformat": 4,
 "nbformat_minor": 2
}
